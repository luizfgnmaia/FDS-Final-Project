{
 "cells": [
  {
   "cell_type": "markdown",
   "metadata": {},
   "source": [
    "## Coleta dos dados\n",
    "\n",
    "É necessária a instalação do pacote selenium.\n",
    "\n",
    "O browser utilizado foi o Mozilla Firefox, talvez seja necessário atualizá-lo ou alterar o geckodriver.exe, que já está no root deste diretório, para utilizar outro navegador."
   ]
  },
  {
   "cell_type": "code",
   "execution_count": 1,
   "metadata": {},
   "outputs": [],
   "source": [
    "import numpy as np\n",
    "import pandas as pd\n",
    "from selenium import webdriver # http://pythonclub.com.br/selenium-parte-1.html\n",
    "from selenium.webdriver.firefox.options import Options # https://stackoverflow.com/questions/53134306/deprecationwarning-use-setter-for-headless-property-instead-of-set-headless-opt\n",
    "import time # https://www.tutorialspoint.com/python/time_sleep\n",
    "import re # https://www.w3schools.com/python/python_regex.asp\n",
    "from bs4 import BeautifulSoup\n",
    "import requests"
   ]
  },
  {
   "cell_type": "markdown",
   "metadata": {},
   "source": [
    "Função que recebe um recebe strings no formato \"/football/brazil/serie-a/\" e coleta os resultados da página \"https://www.flashscore.com/football/brazil/serie-a/results/\"."
   ]
  },
  {
   "cell_type": "code",
   "execution_count": 2,
   "metadata": {},
   "outputs": [],
   "source": [
    "def scrape_flashscore(*hrefs):\n",
    "    \n",
    "    lst_df = []\n",
    "    \n",
    "    # Iniciando o Selenium\n",
    "    opt = Options() # https://datarebellion.com/blog/using-headless-firefox-with-selenium-in-python/\n",
    "    opt.headless = True\n",
    "    wd = webdriver.Firefox(executable_path = \"./geckodriver.exe\", options = opt)\n",
    "    \n",
    "    for href in hrefs:\n",
    "    \n",
    "        # Indo até a página\n",
    "        wd.get(\"https://www.flashscore.com\" + href + \"results/\")\n",
    "    \n",
    "        # Clicando no mostrar mais até que não dê mais\n",
    "        stop = False\n",
    "        while stop == False:\n",
    "            try:\n",
    "                time.sleep(1)\n",
    "                show_more = wd.find_element_by_css_selector(\".event__more--static\") \n",
    "                show_more.click()\n",
    "                time.sleep(3)\n",
    "            except:\n",
    "                stop = True        \n",
    "        \n",
    "        new_page = wd.page_source\n",
    "    \n",
    "        # Coletando as linhas\n",
    "        rows = []\n",
    "        we = wd.find_elements_by_css_selector(\".event__match--oneLine\")\n",
    "        for i in we:\n",
    "            rows.append(i.text)\n",
    "        \n",
    "        # Coletando data da partida e nome do torneio\n",
    "        we = wd.find_element_by_css_selector(\"div.teamHeader__text\")\n",
    "        year = we.text\n",
    "        date = [row[0:5]+\".\"+year for row in rows]\n",
    "        we = wd.find_element_by_css_selector(\"div.teamHeader__name\")\n",
    "        tournament = we.text\n",
    "    \n",
    "        # Separando as informações das linhas e preparando o output\n",
    "        #rows = [re.sub(\"\\s\\([A-Za-z]*\\)\", \"\", row) for row in rows] # Flamengo RJ (Bra) -> Flamengo RJ na Libertadores\n",
    "        rows = [re.sub(\"\\\\nAwarded\", \"\", row) for row in rows]\n",
    "        rows = [re.sub(\"\\((?=[^0-9])\", \"[\", row) for row in rows]\n",
    "        rows = [re.sub(\"(?<=[^0-9])\\)\", \"]\", row) for row in rows] \n",
    "        \n",
    "        for i in range(len(rows)):\n",
    "            last_par = rows[i].rfind(\"(\")\n",
    "            if last_par != -1 and rows[i][-1] == \")\":\n",
    "                rows[i] = rows[i][13:last_par-1].replace(\"\\n\", \" \") \n",
    "            else:\n",
    "                rows[i] = rows[i][13:].replace(\"\\n\", \" \") \n",
    "    \n",
    "        club_1 = []\n",
    "        club_2 = []\n",
    "        goals_1 = []\n",
    "        goals_2 = []\n",
    "        par_1 = []\n",
    "        par_2 = []\n",
    "    \n",
    "        for i in range(len(rows)):\n",
    "            if rows[i].find('(') != -1:\n",
    "                parenthesis = re.search(\"\\(.*\\)\", rows[i]).group()[1:-1]\n",
    "                par_1.append(int(re.search(\".*(?=-)\", parenthesis).group()))\n",
    "                par_2.append(int(re.search(\"(?<=-).*\", parenthesis).group()))\n",
    "            else:\n",
    "                par_1.append(None)\n",
    "                par_2.append(None)\n",
    "            rows[i] = re.sub(\"\\(.*\\)\", \"\", rows[i])\n",
    "            tmp_1 = re.search(\".*(?=\\s\\s-)\", rows[i])\n",
    "            if tmp_1 != None: # Se não tiver o resultado, não pegar\n",
    "                tmp_1 = tmp_1.group()\n",
    "                goals_1.append(int(tmp_1[tmp_1.rfind(\" \")+1:]))\n",
    "                club_1.append(tmp_1[:tmp_1.rfind(\" \")])\n",
    "            tmp_2 = re.search(\"(?<=-\\s\\s).*\", rows[i])\n",
    "            if tmp_2 != None:\n",
    "                tmp_2 = tmp_2.group()\n",
    "                goals_2.append(int(tmp_2[:tmp_2.find(\" \")]))\n",
    "                club_2.append(tmp_2[tmp_2.find(\" \"):].strip())\n",
    "            \n",
    "        # Salvando o data frame na lista\n",
    "        df = pd.DataFrame(list(zip(date, club_1, goals_1, par_1, club_2, goals_2, par_2)), \n",
    "                           columns = ['date', 'club_1', 'goals_1', 'par_1', 'club_2', 'goals_2', 'par_2'])\n",
    "        df['tournament'] = tournament\n",
    "        lst_df.append(df)\n",
    "    \n",
    "    # Unindo os data frames da lista\n",
    "    ret = pd.DataFrame(columns = df.columns)    \n",
    "    for i in range(len(lst_df)):\n",
    "        ret = ret.append(lst_df[i], ignore_index = True)  \n",
    "    ret.replace(to_replace = [None], value = np.nan, inplace = True) # https://stackoverflow.com/questions/23743460/replace-none-with-nan-in-pandas-dataframe\n",
    "    \n",
    "    wd.quit()\n",
    "    \n",
    "    return(ret)"
   ]
  },
  {
   "cell_type": "markdown",
   "metadata": {},
   "source": [
    "Função que recebe urls no formato \"https://www.flashscore.com/football/brazil/serie-a/archive/\" e retorna todos os hrefs desta url, neste caso seriam:\n",
    "    \n",
    "['/football/brazil/serie-a/',\n",
    " '/football/brazil/serie-a-2018/',\n",
    " '/football/brazil/serie-a-2017/',\n",
    " '/football/brazil/serie-a-2016/',\n",
    " '/football/brazil/serie-a-2015/',\n",
    " '/football/brazil/serie-a-2014/',\n",
    " '/football/brazil/serie-a-2013/',\n",
    " '/football/brazil/serie-a-2012/',\n",
    " '/football/brazil/serie-a-2011/',\n",
    " '/football/brazil/serie-a-2010/',\n",
    " '/football/brazil/serie-a-2009/',\n",
    " '/football/brazil/serie-a-2008/',\n",
    " '/football/brazil/serie-a-2007/',\n",
    " '/football/brazil/serie-a-2006/',\n",
    " '/football/brazil/serie-a-2005/',\n",
    " '/football/brazil/serie-a-2004/',\n",
    " '/football/brazil/serie-a-2003/',\n",
    " '/football/brazil/serie-a-2002/',\n",
    " '/football/brazil/serie-a-2001/',\n",
    " '/football/brazil/serie-a-2000/',\n",
    " '/football/brazil/serie-a-1999/',\n",
    " '/football/brazil/serie-a-1998/'] \n",
    " \n",
    " Estes hrefs serão utilizados no scrape_scholar."
   ]
  },
  {
   "cell_type": "code",
   "execution_count": 3,
   "metadata": {},
   "outputs": [],
   "source": [
    "def get_hrefs(*urls):\n",
    "    ret = []\n",
    "    for url in urls:\n",
    "        page = requests.get(url)\n",
    "        soup = BeautifulSoup(page.text, \"html.parser\")\n",
    "        elems = soup.select('.leagueTable__season a')\n",
    "        hrefs = [elem.attrs[\"href\"] for elem in elems]\n",
    "        ret.extend(hrefs)\n",
    "    return ret "
   ]
  },
  {
   "cell_type": "markdown",
   "metadata": {},
   "source": [
    "Função que recebe um conjunto de urls, aplica as funções get_hrefs e scrape_flashscore e salva os resultados em um arquivo .csv."
   ]
  },
  {
   "cell_type": "code",
   "execution_count": 4,
   "metadata": {},
   "outputs": [],
   "source": [
    "def scrape_to_csv(filename, urls):\n",
    "    hrefs = get_hrefs(*urls)\n",
    "    data = scrape_flashscore(*hrefs)\n",
    "    data.to_csv(\"data/\" + filename + \".csv\", index = False)  "
   ]
  },
  {
   "cell_type": "markdown",
   "metadata": {},
   "source": [
    "<hr>\n",
    "\n",
    "Aplicando scrape_to_csv em todos os países e nas competições internacionais:\n",
    "\n",
    "<b>Isso deve demorar um certo tempo"
   ]
  },
  {
   "cell_type": "code",
   "execution_count": null,
   "metadata": {},
   "outputs": [],
   "source": [
    "scrape_to_csv(\"Argentina\", [\"https://www.flashscore.com/football/argentina/superliga/archive/\",\n",
    "            \"https://www.flashscore.com/football/argentina/copa-argentina/archive/\",\n",
    "            \"https://www.flashscore.com/football/argentina/copa-de-la-superliga/archive/\",\n",
    "            \"https://www.flashscore.com/football/argentina/super-cup/archive/\"])"
   ]
  },
  {
   "cell_type": "code",
   "execution_count": 5,
   "metadata": {},
   "outputs": [],
   "source": [
    "scrape_to_csv(\"Bolivia\", [\"https://www.flashscore.com/football/bolivia/division-profesional/archive/\"])"
   ]
  },
  {
   "cell_type": "code",
   "execution_count": null,
   "metadata": {},
   "outputs": [],
   "source": [
    "scrape_to_csv(\"Brasil\", [\"https://www.flashscore.com/football/brazil/serie-a/archive/\",\n",
    "                         \"https://www.flashscore.com/football/brazil/copa-do-brasil/archive/\"])"
   ]
  },
  {
   "cell_type": "code",
   "execution_count": null,
   "metadata": {},
   "outputs": [],
   "source": [
    "scrape_to_csv(\"Chile\", [\"https://www.flashscore.com/football/chile/primera-division/archive/\",\n",
    "                       \"https://www.flashscore.com/football/chile/chilean-cup/archive/\",\n",
    "                       \"https://www.flashscore.com/football/chile/super-cup/archive/\"])"
   ]
  },
  {
   "cell_type": "code",
   "execution_count": null,
   "metadata": {},
   "outputs": [],
   "source": [
    "scrape_to_csv(\"Colombia\", [\"https://www.flashscore.com/football/colombia/liga-aguila/archive/\",\n",
    "                          \"https://www.flashscore.com/football/colombia/copa-aguila/archive/\",\n",
    "                          \"https://www.flashscore.com/football/colombia/super-cup/archive/\"])"
   ]
  },
  {
   "cell_type": "code",
   "execution_count": null,
   "metadata": {},
   "outputs": [],
   "source": [
    "scrape_to_csv(\"Equador\", [\"https://www.flashscore.com/football/ecuador/liga-pro/archive/\",\n",
    "                         \"https://www.flashscore.com/football/ecuador/copa-ecuador/archive/\"])"
   ]
  },
  {
   "cell_type": "code",
   "execution_count": null,
   "metadata": {},
   "outputs": [],
   "source": [
    "scrape_to_csv(\"Paraguai\", [\"https://www.flashscore.com/football/paraguay/primera-division/archive/\",\n",
    "                          \"https://www.flashscore.com/football/paraguay/copa-paraguay/archive/\"])"
   ]
  },
  {
   "cell_type": "code",
   "execution_count": null,
   "metadata": {},
   "outputs": [],
   "source": [
    "scrape_to_csv(\"Peru\", [\"https://www.flashscore.com/football/peru/liga-1/archive/\",\n",
    "                      \"https://www.flashscore.com/football/peru/copa-bicentenario/archive/\"])"
   ]
  },
  {
   "cell_type": "code",
   "execution_count": null,
   "metadata": {},
   "outputs": [],
   "source": [
    "scrape_to_csv(\"Uruguai\", [\"https://www.flashscore.com/football/uruguay/primera-division/archive/\",\n",
    "                          \"https://www.flashscore.com/football/uruguay/super-cup/archive/\"])"
   ]
  },
  {
   "cell_type": "code",
   "execution_count": null,
   "metadata": {},
   "outputs": [],
   "source": [
    "scrape_to_csv(\"Venezuela\", [\"https://www.flashscore.com/football/venezuela/primera-division/archive/\",\n",
    "                           \"https://www.flashscore.com/football/venezuela/copa-venezuela/archive/\"])"
   ]
  },
  {
   "cell_type": "code",
   "execution_count": null,
   "metadata": {},
   "outputs": [],
   "source": [
    "scrape_to_csv(\"Continentais\", [\"https://www.flashscore.com/football/south-america/copa-libertadores/archive/\",\n",
    "                              \"https://www.flashscore.com/football/south-america/copa-sudamericana/archive/\",\n",
    "                              \"https://www.flashscore.com/football/south-america/recopa-sudamericana/archive/\"])"
   ]
  }
 ],
 "metadata": {
  "kernelspec": {
   "display_name": "Python 3",
   "language": "python",
   "name": "python3"
  },
  "language_info": {
   "codemirror_mode": {
    "name": "ipython",
    "version": 3
   },
   "file_extension": ".py",
   "mimetype": "text/x-python",
   "name": "python",
   "nbconvert_exporter": "python",
   "pygments_lexer": "ipython3",
   "version": "3.6.9"
  }
 },
 "nbformat": 4,
 "nbformat_minor": 2
}
