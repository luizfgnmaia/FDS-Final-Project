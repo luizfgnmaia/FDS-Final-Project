{
 "cells": [
  {
   "cell_type": "code",
   "execution_count": null,
   "metadata": {},
   "outputs": [],
   "source": [
    "from scrape_flashscore import *\n",
    "from get_hrefs import *\n",
    "\n",
    "def scrape_to_csv(filename, urls):\n",
    "    hrefs = get_hrefs(*urls)\n",
    "    data = scrape_flashscore(*hrefs)\n",
    "    data.to_csv(\"data/\" + filename + \".csv\", index = False)  "
   ]
  },
  {
   "cell_type": "markdown",
   "metadata": {},
   "source": [
    "## Argentina"
   ]
  },
  {
   "cell_type": "code",
   "execution_count": null,
   "metadata": {},
   "outputs": [],
   "source": [
    "scrape_to_csv(\"argentina\", [\"https://www.flashscore.com/football/argentina/copa-argentina/archive/\",\n",
    "            \"https://www.flashscore.com/football/argentina/copa-argentina/archive/\",\n",
    "            \"https://www.flashscore.com/football/argentina/copa-de-la-superliga/archive/\",\n",
    "            \"https://www.flashscore.com/football/argentina/super-cup/archive/\"])"
   ]
  },
  {
   "cell_type": "markdown",
   "metadata": {},
   "source": [
    "## Bolívia"
   ]
  },
  {
   "cell_type": "code",
   "execution_count": null,
   "metadata": {},
   "outputs": [],
   "source": [
    "scrape_to_csv(\"bolivia\", \"https://www.flashscore.com/football/bolivia/division-profesional/archive/\")"
   ]
  },
  {
   "cell_type": "markdown",
   "metadata": {},
   "source": [
    "## Brasil"
   ]
  },
  {
   "cell_type": "code",
   "execution_count": null,
   "metadata": {},
   "outputs": [],
   "source": [
    "scrape_to_csv(\"brasil\", [\"https://www.flashscore.com/football/brazil/serie-a/archive/\",\n",
    "                         \"https://www.flashscore.com/football/brazil/copa-do-brasil/archive/\"])"
   ]
  },
  {
   "cell_type": "markdown",
   "metadata": {},
   "source": [
    "## Chile"
   ]
  },
  {
   "cell_type": "code",
   "execution_count": null,
   "metadata": {},
   "outputs": [],
   "source": [
    "scrape_to_csv(\"chile\", [\"https://www.flashscore.com/football/chile/primera-division/archive/\",\n",
    "                       \"https://www.flashscore.com/football/chile/chilean-cup/archive/\",\n",
    "                       \"https://www.flashscore.com/football/chile/super-cup/archive/\"])"
   ]
  },
  {
   "cell_type": "markdown",
   "metadata": {},
   "source": [
    "## Colômbia"
   ]
  },
  {
   "cell_type": "code",
   "execution_count": null,
   "metadata": {},
   "outputs": [],
   "source": [
    "scrape_to_csv(\"colombia\", [\"https://www.flashscore.com/football/colombia/liga-aguila/archive/\",\n",
    "                          \"https://www.flashscore.com/football/colombia/copa-aguila/archive/\",\n",
    "                          \"https://www.flashscore.com/football/colombia/super-cup/archive/\"])"
   ]
  },
  {
   "cell_type": "markdown",
   "metadata": {},
   "source": [
    "## Equador"
   ]
  },
  {
   "cell_type": "code",
   "execution_count": null,
   "metadata": {},
   "outputs": [],
   "source": [
    "scrape_to_csv(\"equador\", [\"https://www.flashscore.com/football/ecuador/liga-pro/archive/\",\n",
    "                         \"https://www.flashscore.com/football/ecuador/copa-ecuador/archive/\"])"
   ]
  },
  {
   "cell_type": "markdown",
   "metadata": {},
   "source": [
    "## Paraguai"
   ]
  },
  {
   "cell_type": "code",
   "execution_count": null,
   "metadata": {},
   "outputs": [],
   "source": [
    "scrape_to_csv(\"paraguai\", [\"https://www.flashscore.com/football/paraguay/primera-division/archive/\",\n",
    "                          \"https://www.flashscore.com/football/paraguay/copa-paraguay/archive/\"])"
   ]
  },
  {
   "cell_type": "markdown",
   "metadata": {},
   "source": [
    "## Peru"
   ]
  },
  {
   "cell_type": "code",
   "execution_count": null,
   "metadata": {},
   "outputs": [],
   "source": [
    "scrape_to_csv(\"peru\", \"https://www.flashscore.com/football/peru/liga-1/archive/\")"
   ]
  },
  {
   "cell_type": "markdown",
   "metadata": {},
   "source": [
    "## Uruguai"
   ]
  },
  {
   "cell_type": "code",
   "execution_count": null,
   "metadata": {},
   "outputs": [],
   "source": [
    "scrape_to_csv(\"uruguai\", [\"https://www.flashscore.com/football/uruguay/primera-division/archive/\",\n",
    "                          \"https://www.flashscore.com/football/uruguay/super-cup/archive/\"])"
   ]
  },
  {
   "cell_type": "markdown",
   "metadata": {},
   "source": [
    "## Venezuela"
   ]
  },
  {
   "cell_type": "code",
   "execution_count": null,
   "metadata": {},
   "outputs": [],
   "source": [
    "scrape_to_csv(\"venezuela\", [\"https://www.flashscore.com/football/venezuela/primera-division/archive/\",\n",
    "                           \"https://www.flashscore.com/football/venezuela/copa-venezuela/archive/\"])"
   ]
  },
  {
   "cell_type": "markdown",
   "metadata": {},
   "source": [
    "## Continentais"
   ]
  },
  {
   "cell_type": "code",
   "execution_count": null,
   "metadata": {},
   "outputs": [],
   "source": [
    "scrape_to_csv(\"continentais\", [\"https://www.flashscore.com/football/south-america/copa-libertadores/archive/\",\n",
    "                              \"https://www.flashscore.com/football/south-america/copa-sudamericana/archive/\",\n",
    "                              \"https://www.flashscore.com/football/south-america/recopa-sudamericana/archive/\"])"
   ]
  }
 ],
 "metadata": {
  "kernelspec": {
   "display_name": "Python 3",
   "language": "python",
   "name": "python3"
  },
  "language_info": {
   "codemirror_mode": {
    "name": "ipython",
    "version": 3
   },
   "file_extension": ".py",
   "mimetype": "text/x-python",
   "name": "python",
   "nbconvert_exporter": "python",
   "pygments_lexer": "ipython3",
   "version": "3.6.5"
  }
 },
 "nbformat": 4,
 "nbformat_minor": 2
}
