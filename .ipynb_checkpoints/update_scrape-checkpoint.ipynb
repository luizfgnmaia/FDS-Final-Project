{
 "cells": [
  {
   "cell_type": "code",
   "execution_count": null,
   "metadata": {},
   "outputs": [],
   "source": [
    "from scrape_flashscore import *\n",
    "\n",
    "def scrape_to_csv_2(filename, hrefs):\n",
    "    data = scrape_flashscore(*hrefs)\n",
    "    data.to_csv(\"data/\" + filename + \"_2019\" + \".csv\", index = False)  "
   ]
  },
  {
   "cell_type": "markdown",
   "metadata": {},
   "source": [
    "## Argentina"
   ]
  },
  {
   "cell_type": "code",
   "execution_count": null,
   "metadata": {},
   "outputs": [],
   "source": [
    "scrape_to_csv_2(\"Argentina\", [\"/football/argentina/superliga/\",\n",
    "            \"/football/argentina/copa-argentina/\",\n",
    "            \"/football/argentina/copa-de-la-superliga/\",\n",
    "            \"/football/argentina/super-cup/\"])"
   ]
  },
  {
   "cell_type": "markdown",
   "metadata": {},
   "source": [
    "## Bolívia"
   ]
  },
  {
   "cell_type": "code",
   "execution_count": null,
   "metadata": {},
   "outputs": [],
   "source": [
    "scrape_to_csv_2(\"Bolívia\", [\"/football/bolivia/division-profesional/\"])"
   ]
  },
  {
   "cell_type": "markdown",
   "metadata": {},
   "source": [
    "## Brasil"
   ]
  },
  {
   "cell_type": "code",
   "execution_count": null,
   "metadata": {},
   "outputs": [],
   "source": [
    "scrape_to_csv_2(\"Brasil\", [\"/football/brazil/serie-a/\",\n",
    "                         \"/football/brazil/copa-do-brasil/\"])"
   ]
  },
  {
   "cell_type": "markdown",
   "metadata": {},
   "source": [
    "## Chile"
   ]
  },
  {
   "cell_type": "code",
   "execution_count": null,
   "metadata": {},
   "outputs": [],
   "source": [
    "scrape_to_csv_2(\"Chile\", [\"/football/chile/primera-division/\",\n",
    "                       \"/football/chile/chilean-cup/\",\n",
    "                       \"/football/chile/super-cup/\"])"
   ]
  },
  {
   "cell_type": "markdown",
   "metadata": {},
   "source": [
    "## Colômbia"
   ]
  },
  {
   "cell_type": "code",
   "execution_count": null,
   "metadata": {},
   "outputs": [],
   "source": [
    "scrape_to_csv_2(\"Colômbia\", [\"/football/colombia/liga-aguila/\",\n",
    "                          \"/football/colombia/copa-aguila/\",\n",
    "                          \"/football/colombia/super-cup/\"])"
   ]
  },
  {
   "cell_type": "markdown",
   "metadata": {},
   "source": [
    "## Equador"
   ]
  },
  {
   "cell_type": "code",
   "execution_count": null,
   "metadata": {},
   "outputs": [],
   "source": [
    "scrape_to_csv_2(\"Equador\", [\"/football/ecuador/liga-pro/\",\n",
    "                         \"/football/ecuador/copa-ecuador/\"])"
   ]
  },
  {
   "cell_type": "markdown",
   "metadata": {},
   "source": [
    "## Paraguai"
   ]
  },
  {
   "cell_type": "code",
   "execution_count": null,
   "metadata": {},
   "outputs": [],
   "source": [
    "scrape_to_csv_2(\"Paraguai\", [\"/football/paraguay/primera-division/\",\n",
    "                          \"/football/paraguay/copa-paraguay/\"])"
   ]
  },
  {
   "cell_type": "markdown",
   "metadata": {},
   "source": [
    "## Peru"
   ]
  },
  {
   "cell_type": "code",
   "execution_count": null,
   "metadata": {},
   "outputs": [],
   "source": [
    "scrape_to_csv_2(\"Peru\", [\"/football/peru/liga-1/\",\n",
    "                      \"/football/peru/copa-bicentenario/\"])"
   ]
  },
  {
   "cell_type": "markdown",
   "metadata": {},
   "source": [
    "## Uruguai"
   ]
  },
  {
   "cell_type": "code",
   "execution_count": null,
   "metadata": {},
   "outputs": [],
   "source": [
    "scrape_to_csv_2(\"Uruguai\", [\"/football/uruguay/primera-division/\",\n",
    "                          \"/football/uruguay/super-cup/\"])"
   ]
  },
  {
   "cell_type": "markdown",
   "metadata": {},
   "source": [
    "## Venezuela"
   ]
  },
  {
   "cell_type": "code",
   "execution_count": null,
   "metadata": {},
   "outputs": [],
   "source": [
    "scrape_to_csv_2(\"Venezuela\", [\"/football/venezuela/primera-division/\",\n",
    "                           \"/football/venezuela/copa-venezuela/\"])"
   ]
  },
  {
   "cell_type": "markdown",
   "metadata": {},
   "source": [
    "## Continentais"
   ]
  },
  {
   "cell_type": "code",
   "execution_count": null,
   "metadata": {},
   "outputs": [],
   "source": [
    "scrape_to_csv_2(\"Continentais\", [\"football/south-america/copa-libertadores/\",\n",
    "                              \"/football/south-america/copa-sudamericana/\",\n",
    "                              \"/football/south-america/recopa-sudamericana/\"])"
   ]
  }
 ],
 "metadata": {
  "kernelspec": {
   "display_name": "Python 3",
   "language": "python",
   "name": "python3"
  },
  "language_info": {
   "codemirror_mode": {
    "name": "ipython",
    "version": 3
   },
   "file_extension": ".py",
   "mimetype": "text/x-python",
   "name": "python",
   "nbconvert_exporter": "python",
   "pygments_lexer": "ipython3",
   "version": "3.6.5"
  }
 },
 "nbformat": 4,
 "nbformat_minor": 2
}
